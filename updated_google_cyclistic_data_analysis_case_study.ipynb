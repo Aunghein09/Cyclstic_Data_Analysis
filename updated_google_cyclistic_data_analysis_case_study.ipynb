{
 "cells": [
  {
   "cell_type": "markdown",
   "id": "28e7de4f",
   "metadata": {},
   "source": [
    "title: \"google_cyclistic_data_analysisis\"<br>author: \"Kyar-Hsing Ma\"<br>date: \"July 16, 2022\"\n"
   ]
  },
  {
   "cell_type": "markdown",
   "id": "907eab34",
   "metadata": {},
   "source": [
    "## **Steps Used for Data Analysis**\n",
    "1. [Ask](#ask)\n",
    "2. [Prepare](#prepare)\n",
    "3. [Process](#process)\n",
    "4. [Analyze](#analyze)\n",
    "5. [Share](#share)\n",
    "6. [Act](#act)\n"
   ]
  },
  {
   "cell_type": "markdown",
   "id": "85203a48",
   "metadata": {},
   "source": [
    "### Import Necessary Data\n",
    "The data used for this analysisis is from 2021/06 to 2022/05 and can be access from the source:https://divvy-tripdata.s3.amazonaws.com/index.html"
   ]
  },
  {
   "cell_type": "markdown",
   "id": "9c4f3319",
   "metadata": {},
   "source": [
    "### Compare Column Names of each file\n",
    "Column names of each data are displayed to check any inconsistency present in the data."
   ]
  },
  {
   "cell_type": "markdown",
   "id": "ce837f1b",
   "metadata": {},
   "source": [
    "The results are all the same. Therefore, the variable names are consistent across all data. \n",
    "\n",
    "### Inspect the dataframes and look for incongruencies"
   ]
  },
  {
   "cell_type": "markdown",
   "id": "a598826f",
   "metadata": {},
   "source": [
    "The outputs show that all data type match.  \n",
    "\n",
    "### Stack individual montly data into one big data frame for processing"
   ]
  },
  {
   "cell_type": "markdown",
   "id": "fdc5ac36",
   "metadata": {},
   "source": [
    "## **Process** \n",
    "### Inspect the new table that has been created"
   ]
  },
  {
   "cell_type": "markdown",
   "id": "07e48724",
   "metadata": {},
   "source": [
    "By inspecting the tables from above, a reasonable insight of the data frame is obtained and nearly 900,000 entries are missing from station\\_id. This missing data would impose a bias in data analysisis. In the real world case,  the data team of cyclistic company should be inquired  for explanation or how to manage the missing data. However, the general purpose of this case scenario is to find the trends of casual and member riders of the company. Therefore, the missing data will be removed here and assume that the remaining data is big enough for analysisis.  \n",
    "\n",
    "### Remove the missing data"
   ]
  },
  {
   "cell_type": "markdown",
   "id": "d16a22a7",
   "metadata": {},
   "source": [
    "### Add more columns for data aggregation\n",
    "\n",
    "This will allow us to aggregate ride data for each month, day, or year ... before completing these operations we could only aggregate at the ride level\n",
    "source: https://www.statmethods.net/input/dates.html"
   ]
  },
  {
   "cell_type": "markdown",
   "id": "d0c00e74",
   "metadata": {},
   "source": [
    "### Add a \"ride_length\" calculation to all_trips (in seconds)  \n",
    "\n",
    "source: https://stat.ethz.ch/R-manual/R-devel/library/base/html/difftime.html"
   ]
  },
  {
   "cell_type": "markdown",
   "id": "92924789",
   "metadata": {},
   "source": [
    "### Adding time_period column to determine which period\n",
    "\n",
    "source:https://stackoverflow.com/questions/50304159/label-day-timing-into-morning-afternoon-and-evening-in-r"
   ]
  },
  {
   "cell_type": "markdown",
   "id": "ca47475b",
   "metadata": {},
   "source": [
    "### Inspect the structure of the columns"
   ]
  },
  {
   "cell_type": "markdown",
   "id": "1201b93d",
   "metadata": {},
   "source": [
    "### Convert \"ride_length\" from Factor to numeric so we can run calculations on the data\n"
   ]
  },
  {
   "cell_type": "markdown",
   "id": "6089d02e",
   "metadata": {},
   "source": [
    "### Remove \"bad\" data\n"
   ]
  },
  {
   "cell_type": "markdown",
   "id": "e84376da",
   "metadata": {},
   "source": [
    "The minimum of ride length is a negative. The data frame includes a few entries when bikes were taken out of docks and checked for quality by Divvy or ride_length was negative.\\\n",
    "We will create a new version called the clean_data since data is being removed.\\\n",
    "source: https://www.datasciencemadesimple.com/delete-or-drop-rows-in-r-with-conditions-2/"
   ]
  },
  {
   "cell_type": "markdown",
   "id": "7a0c1d7b",
   "metadata": {},
   "source": [
    "##  **Analyze**\n",
    "\n",
    "### Descriptive analysisis on ride_length (all figures in seconds)"
   ]
  },
  {
   "cell_type": "markdown",
   "id": "9eac0bb2",
   "metadata": {},
   "source": [
    "### Compare members and casual users\n"
   ]
  },
  {
   "cell_type": "markdown",
   "id": "601643a2",
   "metadata": {},
   "source": [
    "### See the average ride time by each day for members vs casual users\n"
   ]
  },
  {
   "cell_type": "markdown",
   "id": "d335c771",
   "metadata": {},
   "source": [
    "### Fix the days of the week being out of order.\n"
   ]
  },
  {
   "cell_type": "markdown",
   "id": "38a1b85b",
   "metadata": {},
   "source": [
    "### Analyze ridership data by type and weekday\n"
   ]
  },
  {
   "cell_type": "markdown",
   "id": "8ab5fd0e",
   "metadata": {},
   "source": [
    "### Visualize the number of rides by rider type\n"
   ]
  },
  {
   "cell_type": "markdown",
   "id": "d741bafa",
   "metadata": {},
   "source": [
    "From both the summary table and the chart, Casuals ride more during the weekends whereas members ride more in the weekdays.\n",
    "\n",
    "### Create a visualization for average duration"
   ]
  },
  {
   "cell_type": "markdown",
   "id": "95fcd2f5",
   "metadata": {},
   "source": [
    "The average ride duration of members is below 15 mins throughout the week. However, that of casuals is above 30 minutes on weekends and even over 25 minutes on the weekdays where they ride fewer trips than the members.\n",
    "\n",
    "### Visualize number of rides in related to months of the year"
   ]
  },
  {
   "cell_type": "markdown",
   "id": "f7125e46",
   "metadata": {},
   "source": [
    "Most of the rides took place between May and October. The peak month for casuals is July and that of members is August. There are very few casual rides in January and February. Member rides also decrease but not as low as that of casuals.\n",
    "\n",
    "### Creat a line chart showing relation of number of rides and start time of the rides between casuals and members"
   ]
  },
  {
   "cell_type": "markdown",
   "id": "911db6f7",
   "metadata": {},
   "source": [
    "Member rides have a peak at around 17:00. Casuals have two peaks in the day, one around 8:00 and the other at 17:00 while the afternoon peak is higher than members.\n",
    "\n",
    "\n",
    "\n",
    "### Creat a visualization of number of ride counts related to time of the day on weekends."
   ]
  },
  {
   "cell_type": "markdown",
   "id": "f0c3a8bc",
   "metadata": {},
   "source": [
    "Both members and casuals ride most in the afternoon time which is also in consistent with the peak hour in the previous chart. \n",
    "\n",
    "### Visualize the average ride length in relation to time of the day"
   ]
  },
  {
   "cell_type": "markdown",
   "id": "7e849403",
   "metadata": {},
   "source": [
    "The average ride length of both casuals and members seem little variations with time of the day.\n",
    "\n",
    "##  **Share** \n",
    "### A summary of ride counts and average ride time between members and casuals on different days of week"
   ]
  },
  {
   "cell_type": "markdown",
   "id": "3498b7b9",
   "metadata": {},
   "source": [
    "From analysisis, the different patterns between members and casuals are as follows.\n",
    "\n",
    "### Ride counts in various month of the year"
   ]
  },
  {
   "cell_type": "markdown",
   "id": "27262301",
   "metadata": {},
   "source": [
    "Most of the rides occur in May to October. Peak months for members and casuals are August and  July respectively. Both categories of rides are lowest in cold months, January and February.\n",
    "\n",
    "### Average ride duration"
   ]
  },
  {
   "cell_type": "markdown",
   "id": "74a9384c",
   "metadata": {},
   "source": [
    "The average ride duration of casuals is obviously longer than that of members. Member rides are below 15 minutes throughout the week whereas causual rides are over 25 minutes on weekdays and even higher than 30 minutes on weekends.\n",
    "\n",
    "### Ride counts by day of week"
   ]
  },
  {
   "cell_type": "markdown",
   "id": "aaf6d262",
   "metadata": {},
   "source": [
    "Total ride counts of casuals are peaked during weekends while member ride counts are more on weekdays. \n",
    "\n",
    "### Ride counts by start hour"
   ]
  },
  {
   "cell_type": "markdown",
   "id": "0924780a",
   "metadata": {},
   "source": [
    "Member rides have a peak at around 17:00. Casuals have two peaks in the day, one around 8:00 and the other at 17:00 while the afternoon peak is higher than members. Members highest ride count by start hour of the day is below 200,000 while that of casuals is nearly 300,000.\n",
    "\n",
    "### Average ride time by time of the day"
   ]
  },
  {
   "cell_type": "markdown",
   "id": "ed161cee",
   "metadata": {},
   "source": [
    "The average ride length of both casuals and members seem little variations with time of the day.\n",
    "\n",
    "### Number of rides by time of the day on weekends"
   ]
  },
  {
   "cell_type": "markdown",
   "id": "59a29d40",
   "metadata": {},
   "source": [
    "## **Act**\n",
    "\n",
    "### Conclusion of Analysis and Recommendation\n",
    "\n",
    "The main differences in trends of member and casual rides are peak days of the week and the average ride time.  \n",
    "    Casuals ride more on the weekends and members ride more on the weekdays.\n",
    "Casuals have a average ride length of 25-35 minutes while members only have below 15 minutes.  \n",
    "**Recommendation:** Marketing strategies and pricing should focus on weekends to attract more casuals. Setting different perks for various ride length especiall(25-35 minutes) might also be a good direction.\n",
    "    \n",
    "Another trends is the peak hours of the day of ride counts.  \n",
    "Both members and casuals ride more in the afternoon around 17:00.  \n",
    "**Recommendation:** Focusing on this time period may also increase the membership subscription.\n",
    "    \n",
    "The other trends worth noticed is the peak rides in May to October of the year.  \n",
    "**Recommendation:** This should be inspected more for the coming year. If this trend persists, campaign on these months of the year might not only retains the original members but also attract new members.  \n",
    "\n",
    "### Additional and Further Analysis\n",
    "\n",
    "We can investigate and analyze the reason for casual riders to buy annual memberships.  \n",
    "We can also study the impact of social media in influencing casual rides to become more interested in annual memberships.  "
   ]
  },
  {
   "cell_type": "code",
   "execution_count": null,
   "id": "11cdd733",
   "metadata": {},
   "outputs": [],
   "source": [
    "{warning = FALSE}\n",
    "library(\"tidyverse\") #helps wrangle data\n",
    "library(\"data.table\") #helps in writing mode function\n",
    "library(\"here\") #helps access the working directory\n",
    "library(\"janitor\") #helps checking data\n",
    "library(\"skimr\") #helps inspecting data\n",
    "library(\"lubridate\") #helps wrangle data attribute\n",
    "library(\"writexl\") #writing data to excel "
   ]
  },
  {
   "cell_type": "code",
   "execution_count": null,
   "id": "d1716d17",
   "metadata": {},
   "outputs": [],
   "source": [
    "\n",
    "# Load all CSV files using a loop\n",
    "file_paths <- list.files(path = \"../input/google-cyclistic-data-analysis-case-study-1\", \n",
    "                         pattern = \"*.csv\", full.names = TRUE)\n",
    "trip_data_list <- lapply(file_paths, read_csv)\n",
    "all_trips <- bind_rows(trip_data_list)\n"
   ]
  },
  {
   "cell_type": "code",
   "execution_count": null,
   "id": "2d48d0e8",
   "metadata": {},
   "outputs": [],
   "source": [
    "colnames(tripdata_202106)\n",
    "colnames(tripdata_202107)\n",
    "colnames(tripdata_202108)\n",
    "colnames(tripdata_202109)\n",
    "colnames(tripdata_202110)\n",
    "colnames(tripdata_202111)\n",
    "colnames(tripdata_202112)\n",
    "colnames(tripdata_202201)\n",
    "colnames(tripdata_202202)\n",
    "colnames(tripdata_202203)\n",
    "colnames(tripdata_202204)\n",
    "colnames(tripdata_202205)"
   ]
  },
  {
   "cell_type": "code",
   "execution_count": null,
   "id": "28f9bad7",
   "metadata": {},
   "outputs": [],
   "source": [
    "str(tripdata_202106)\n",
    "str(tripdata_202107)\n",
    "str(tripdata_202108)\n",
    "str(tripdata_202109)\n",
    "str(tripdata_202110)\n",
    "str(tripdata_202111)\n",
    "str(tripdata_202112)\n",
    "str(tripdata_202201)\n",
    "str(tripdata_202202)\n",
    "str(tripdata_202203)\n",
    "str(tripdata_202204)\n",
    "str(tripdata_202205)"
   ]
  },
  {
   "cell_type": "code",
   "execution_count": null,
   "id": "7c96844e",
   "metadata": {},
   "outputs": [],
   "source": [
    "all_trips <- bind_rows(tripdata_202106,tripdata_202107,tripdata_202108,tripdata_202109,tripdata_202110,tripdata_202111,tripdata_202112,tripdata_202201,tripdata_202202,tripdata_202203,tripdata_202204,tripdata_202205)"
   ]
  },
  {
   "cell_type": "code",
   "execution_count": null,
   "id": "7636e4f2",
   "metadata": {},
   "outputs": [],
   "source": [
    "colnames(all_trips)  #List of column names\n",
    "nrow(all_trips)  #How many rows are in data frame?\n",
    "dim(all_trips)  #Dimensions of the data frame?\n",
    "head(all_trips)  #See the first 6 rows of data frame  \n",
    "tail(all_trips) #See the last 6 rows of data frame\n",
    "str(all_trips)  #See list of columns and data types (numeric, character, etc)\n",
    "summary(all_trips)  #Statistical summary of data. Mainly for numeric\n",
    "skim_without_charts(all_trips) #skim through the data to give an overview insight of the data"
   ]
  },
  {
   "cell_type": "code",
   "execution_count": null,
   "id": "993aa3c2",
   "metadata": {},
   "outputs": [],
   "source": [
    "all_trips <- na.omit(all_trips)\n"
   ]
  },
  {
   "cell_type": "code",
   "execution_count": null,
   "id": "086caffe",
   "metadata": {},
   "outputs": [],
   "source": [
    "all_trips$date <- as.Date(all_trips$started_at) #The default format is yyyy-mm-dd\n",
    "all_trips$month <- format(as.Date(all_trips$date), \"%m\")\n",
    "all_trips$day <- format(as.Date(all_trips$date), \"%d\")\n",
    "all_trips$year <- format(as.Date(all_trips$date), \"%Y\")\n",
    "all_trips$day_of_week <- format(as.Date(all_trips$date), \"%A\")"
   ]
  },
  {
   "cell_type": "code",
   "execution_count": null,
   "id": "804bdd5b",
   "metadata": {},
   "outputs": [],
   "source": [
    "all_trips$ride_length <- difftime(all_trips$ended_at,all_trips$started_at)\n"
   ]
  },
  {
   "cell_type": "code",
   "execution_count": null,
   "id": "ed148170",
   "metadata": {},
   "outputs": [],
   "source": [
    "breaks <- hour(hm(\"00:00\", \"6:00\", \"12:00\", \"18:00\", \"23:59\")) #Create breaks\n",
    "labels <- c(\"Night\", \"Morning\", \"Afternoon\", \"Evening\") # Labels for the breaks\n",
    "all_trips$time_period <- cut(x=hour(all_trips$started_at), \n",
    "                         breaks = breaks, labels = labels, include.lowest=TRUE)"
   ]
  },
  {
   "cell_type": "code",
   "execution_count": null,
   "id": "d309e267",
   "metadata": {},
   "outputs": [],
   "source": [
    "str(all_trips)\n"
   ]
  },
  {
   "cell_type": "code",
   "execution_count": null,
   "id": "26816a11",
   "metadata": {},
   "outputs": [],
   "source": [
    "is.factor(all_trips$ride_length)\n",
    "all_trips$ride_length <- as.numeric(as.character(all_trips$ride_length))\n",
    "is.numeric(all_trips$ride_length)"
   ]
  },
  {
   "cell_type": "code",
   "execution_count": null,
   "id": "a873cb4c",
   "metadata": {},
   "outputs": [],
   "source": [
    "all_trips %>% summarise(min(ride_length))\n"
   ]
  },
  {
   "cell_type": "code",
   "execution_count": null,
   "id": "88a11a76",
   "metadata": {},
   "outputs": [],
   "source": [
    "clean_data <- all_trips[!(all_trips$start_station_name == \"HQ QR\" | all_trips$ride_length<0),]"
   ]
  },
  {
   "cell_type": "code",
   "execution_count": null,
   "id": "319f5a07",
   "metadata": {},
   "outputs": [],
   "source": [
    "mean(clean_data$ride_length) #straight average (total ride length / rides)\n",
    "median(clean_data$ride_length) #midpoint number in the ascending array of ride lengths\n",
    "max(clean_data$ride_length) #longest ride\n",
    "min(clean_data$ride_length) #shortest ride"
   ]
  },
  {
   "cell_type": "code",
   "execution_count": null,
   "id": "b893873d",
   "metadata": {},
   "outputs": [],
   "source": [
    "aggregate(clean_data$ride_length ~ clean_data$member_casual, FUN = mean)\n",
    "aggregate(clean_data$ride_length ~ clean_data$member_casual, FUN = median)\n",
    "aggregate(clean_data$ride_length ~ clean_data$member_casual, FUN = max)\n",
    "aggregate(clean_data$ride_length ~ clean_data$member_casual, FUN = min)"
   ]
  },
  {
   "cell_type": "code",
   "execution_count": null,
   "id": "e88b4147",
   "metadata": {},
   "outputs": [],
   "source": [
    "aggregate(clean_data$ride_length ~ clean_data$member_casual + clean_data$day_of_week, FUN = mean)"
   ]
  },
  {
   "cell_type": "code",
   "execution_count": null,
   "id": "09d08abb",
   "metadata": {},
   "outputs": [],
   "source": [
    "clean_data$day_of_week <- ordered(clean_data$day_of_week, levels=c(\"Sunday\", \"Monday\", \"Tuesday\", \"Wednesday\", \"Thursday\", \"Friday\", \"Saturday\"))"
   ]
  },
  {
   "cell_type": "code",
   "execution_count": null,
   "id": "8d06f442",
   "metadata": {},
   "outputs": [],
   "source": [
    "clean_data %>% \n",
    "  mutate(weekday = wday(started_at, label = TRUE)) %>%  #creates weekday field using wday()\n",
    "  group_by(member_casual, weekday) %>%  #groups by usertype and weekday\n",
    "  summarise(number_of_rides = n()\t\t\t\t\t\t\t#calculates the number of rides and average duration \n",
    "            ,average_duration = mean(ride_length)) %>% \t\t# calculates the average duration\n",
    "  arrange(member_casual, weekday)\t\t\t\t\t\t\t\t# sorts"
   ]
  },
  {
   "cell_type": "code",
   "execution_count": null,
   "id": "c0dae8c0",
   "metadata": {},
   "outputs": [],
   "source": [
    "options(scipen = 999)\n",
    "clean_data %>% \n",
    "  mutate(weekday = wday(started_at, label = TRUE)) %>% \n",
    "  group_by(member_casual, weekday) %>% \n",
    "  summarise(number_of_rides = n()\n",
    "            ,average_duration = mean(ride_length)) %>% \n",
    "  arrange(member_casual, weekday)  %>% \n",
    "  ggplot(aes(x = weekday, y = number_of_rides, fill = member_casual)) +\n",
    "  geom_col(position = \"dodge\")"
   ]
  },
  {
   "cell_type": "code",
   "execution_count": null,
   "id": "c922713f",
   "metadata": {},
   "outputs": [],
   "source": [
    "clean_data %>% \n",
    "  mutate(weekday = wday(started_at, label = TRUE)) %>% \n",
    "  group_by(member_casual, weekday) %>% \n",
    "  summarise(number_of_rides = n()\n",
    "            ,average_duration = mean(ride_length)) %>% \n",
    "  arrange(member_casual, weekday)  %>% \n",
    "  ggplot(aes(x = weekday, y = average_duration, fill = member_casual)) +\n",
    "  geom_col(position = \"dodge\")+\n",
    "  scale_y_time()"
   ]
  },
  {
   "cell_type": "code",
   "execution_count": null,
   "id": "2d2c4ea2",
   "metadata": {},
   "outputs": [],
   "source": [
    "clean_data %>% \n",
    "  group_by(member_casual,month) %>% \n",
    "  summarize(ride_count = n()) %>% \n",
    "  ggplot(aes(x=month,y=ride_count,fill=member_casual))+\n",
    "  geom_col(position = \"dodge\")"
   ]
  },
  {
   "cell_type": "code",
   "execution_count": null,
   "id": "295275db",
   "metadata": {},
   "outputs": [],
   "source": [
    "clean_data %>% \n",
    "  group_by(member_casual,start_hour=hour(started_at)) %>% \n",
    "  summarize(ride_count = n()) %>% \n",
    "  ggplot(aes(x=start_hour, y = ride_count,color=member_casual))+\n",
    "  geom_line()+\n",
    "  scale_x_continuous(breaks=seq(0,24,2))"
   ]
  },
  {
   "cell_type": "code",
   "execution_count": null,
   "id": "ede25bd1",
   "metadata": {},
   "outputs": [],
   "source": [
    "clean_data %>%\n",
    "  filter(day_of_week==\"Sunday\" |day_of_week==\"Saturday\") %>% \n",
    "  group_by(member_casual,day_of_week,time_of_the_day =time_period) %>% \n",
    "  summarise(average_ride_length=mean(ride_length),ride_count=n()) %>% \n",
    "  ggplot(aes(x=time_of_the_day, y=ride_count,fill=member_casual))+\n",
    "  geom_col(position=\"dodge\")+\n",
    "  facet_wrap(~day_of_week)"
   ]
  },
  {
   "cell_type": "code",
   "execution_count": null,
   "id": "72e2578c",
   "metadata": {},
   "outputs": [],
   "source": [
    "clean_data %>% \n",
    "  group_by(member_casual,time_of_the_day =time_period) %>% \n",
    "  summarise(average_ride_length=mean(ride_length)) %>% \n",
    "  ggplot(aes(x=time_of_the_day, y=average_ride_length,fill=member_casual))+\n",
    "  geom_col(position=\"dodge\")+\n",
    "  scale_y_time()"
   ]
  },
  {
   "cell_type": "code",
   "execution_count": null,
   "id": "092e8ab9",
   "metadata": {},
   "outputs": [],
   "source": [
    "{echo=FALSE}\n",
    "{message = FALSE}\n",
    "summary<-clean_data %>% \n",
    "  mutate(weekday = wday(started_at, label = TRUE)) %>%\n",
    "  group_by(member_casual, weekday) %>% \n",
    "  summarise(number_of_rides = n(),average_duration = mean(ride_length)) %>% \n",
    "  arrange(member_casual, weekday) \n",
    "  knitr::kable(summary,caption = \"Summary of Ride counts and Average Ride Time on Diferent Days of Week\")"
   ]
  },
  {
   "cell_type": "code",
   "execution_count": null,
   "id": "b6dde7ed",
   "metadata": {},
   "outputs": [],
   "source": [
    "{echo=FALSE}\n",
    "clean_data %>% \n",
    "  group_by(member_casual,month) %>% \n",
    "  summarize(ride_count = n()) %>% \n",
    "  ggplot(aes(x=month,y=ride_count,fill=member_casual))+\n",
    "  geom_col(position = \"dodge\")+\n",
    "  labs(title=\"Total Ride Counts by Months of the Year\",\n",
    "       subtitle=\"July and August are peak riding months of the year\",\n",
    "       caption=\"Divvy Tripdata 2021-06 to 2022-05 Data source: https://divvy-tripdata.s3.amazonaws.com/index.html \")"
   ]
  },
  {
   "cell_type": "code",
   "execution_count": null,
   "id": "f53060fe",
   "metadata": {},
   "outputs": [],
   "source": [
    "{echo=FALSE}\n",
    "clean_data %>% \n",
    "  mutate(weekday = wday(started_at, label = TRUE)) %>% \n",
    "  group_by(member_casual, weekday) %>% \n",
    "  summarise(number_of_rides = n()\n",
    "            ,average_duration = mean(ride_length)) %>% \n",
    "  arrange(member_casual, weekday)  %>% \n",
    "  ggplot(aes(x = weekday, y = average_duration, fill = member_casual)) +\n",
    "  geom_col(position = \"dodge\")+\n",
    "  scale_y_time()+\n",
    "  labs(title = \"Average Duration of Rides by Day of Week\",\n",
    "       subtitle = \"Both members and casuals ride longer on weekends\",\n",
    "       caption=\"Divvy Tripdata 2021-06 to 2022-05 Data source: https://divvy-tripdata.s3.amazonaws.com/index.html \")"
   ]
  },
  {
   "cell_type": "code",
   "execution_count": null,
   "id": "aa799e01",
   "metadata": {},
   "outputs": [],
   "source": [
    "{echo=FALSE}\n",
    "clean_data %>% \n",
    "  mutate(weekday = wday(started_at, label = TRUE)) %>% \n",
    "  group_by(member_casual, weekday) %>% \n",
    "  summarise(number_of_rides = n()\n",
    "            ,average_duration = mean(ride_length)) %>% \n",
    "  arrange(member_casual, weekday)  %>% \n",
    "  ggplot(aes(x = weekday, y = number_of_rides, fill = member_casual)) +\n",
    "  geom_col(position = \"dodge\")+\n",
    "  labs(title = \"Total Ride Counts by Day of Week\",\n",
    "       subtitle = \"Members ride more during weekdays and casuals ride more during weekends\",\n",
    "       caption=\"Divvy Tripdata 2021-06 to 2022-05 Data source: https://divvy-tripdata.s3.amazonaws.com/index.html \")"
   ]
  },
  {
   "cell_type": "code",
   "execution_count": null,
   "id": "85d317cd",
   "metadata": {},
   "outputs": [],
   "source": [
    "{ echo = FALSE}\n",
    "clean_data %>% \n",
    "  group_by(member_casual,start_hour=hour(started_at)) %>% \n",
    "  summarize(ride_count = n()) %>% \n",
    "  ggplot(aes(x=start_hour, y = ride_count,color=member_casual))+\n",
    "  geom_line()+\n",
    "  scale_x_continuous(breaks=seq(0,24,2))+\n",
    "  labs(title = \"Total Ride Counts by Start Hour of the Day\",\n",
    "       subtitle = \"Both casual and member rides are peak at 17:00\",\n",
    "       caption=\"Divvy Tripdata 2021-06 to 2022-05 Data source: https://divvy-tripdata.s3.amazonaws.com/index.html \")"
   ]
  },
  {
   "cell_type": "code",
   "execution_count": null,
   "id": "332d5355",
   "metadata": {},
   "outputs": [],
   "source": [
    "{echo=FALSE}\n",
    "clean_data %>% \n",
    "  group_by(member_casual,time_of_the_day =time_period) %>% \n",
    "  summarise(average_ride_length=mean(ride_length)) %>% \n",
    "  ggplot(aes(x=time_of_the_day, y=average_ride_length,fill=member_casual))+\n",
    "  geom_col(position=\"dodge\")+\n",
    "  scale_y_time()+\n",
    "  labs(title = \"Average Ride Time by Time of the Day\",\n",
    "       subtitle = \"The average ride length does not seem to be varied with time of the day\",\n",
    "       caption=\"Night = 00:00-06:00, Morning = 06:00-12:00, Afternoon = 12:00-18:00, Evening = 18:00-00:00 \n",
    "       Divvy Tripdata 2021-06 to 2022-05 Data source: https://divvy-tripdata.s3.amazonaws.com/index.html \")"
   ]
  },
  {
   "cell_type": "code",
   "execution_count": null,
   "id": "8574936d",
   "metadata": {},
   "outputs": [],
   "source": [
    "{echo=FALSE}\n",
    "clean_data %>%\n",
    "  filter(day_of_week==\"Sunday\" |day_of_week==\"Saturday\") %>% \n",
    "  group_by(member_casual,day_of_week,time_of_the_day =time_period) %>% \n",
    "  summarise(average_ride_length=mean(ride_length),ride_count=n()) %>% \n",
    "  ggplot(aes(x=time_of_the_day, y=ride_count,fill=member_casual))+\n",
    "  geom_col(position=\"dodge\")+\n",
    "  facet_wrap(~day_of_week)+\n",
    "  labs(title = \"Ride Counts by Time of the Day on Weekends\",\n",
    "       subtitle = \"Both casual and member rides are peak in the afternoon\",\n",
    "       caption=\"Night = 00:00-06:00, Morning = 06:00-12:00, Afternoon = 12:00-18:00, Evening = 18:00-00:00 \n",
    "       Divvy Tripdata 2021-06 to 2022-05 Data source: https://divvy-tripdata.s3.amazonaws.com/index.html \")"
   ]
  }
 ],
 "metadata": {},
 "nbformat": 4,
 "nbformat_minor": 5
}
